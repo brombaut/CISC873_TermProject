{
 "cells": [
  {
   "cell_type": "code",
   "execution_count": 84,
   "metadata": {},
   "outputs": [],
   "source": [
    "import numpy as np\n",
    "import pandas as pd\n",
    "import seaborn as sns\n",
    "import matplotlib.pyplot as plt\n",
    "import matplotlib.dates as mdates\n",
    "from matplotlib.pyplot import figure\n",
    "from datetime import datetime\n",
    "pd.set_option('display.max_colwidth', None)"
   ]
  },
  {
   "cell_type": "code",
   "execution_count": 37,
   "metadata": {},
   "outputs": [],
   "source": [
    "releases_raw = pd.read_csv('../data/csv/releases.csv')\n",
    "imports = pd.read_csv('../data/csv/imports.csv')\n",
    "import_diffs = pd.read_csv('../data/csv/import_diffs.csv')\n",
    "repo_imports = pd.read_csv('../data/csv/repo_imports.csv')\n",
    "repo_import_diffs = pd.read_csv('../data/csv/repo_import_diffs.csv')\n",
    "repo_import_diffs_timeline = pd.read_csv('../data/csv/repo_import_diffs_timeline.csv')"
   ]
  },
  {
   "cell_type": "code",
   "execution_count": 76,
   "metadata": {},
   "outputs": [],
   "source": [
    "ml_libraries = [\"tensorflow\", \"torch\", \"theano\", \"keras\"]\n",
    "\n",
    "ml_imports = imports[imports['name'].isin(ml_libraries)]\n",
    "ml_imports_diffs = import_diffs[import_diffs['import_name'].isin(ml_libraries)]\n",
    "ml_repo_imports = repo_imports[repo_imports['import_name'].isin(ml_libraries)]\n",
    "ml_repo_import_diffs = repo_import_diffs[repo_import_diffs['import_name'].isin(ml_libraries)]\n",
    "ml_repo_import_diffs_timeline = pd.DataFrame(\n",
    "    repo_import_diffs_timeline[repo_import_diffs_timeline['import'].isin(ml_libraries)]\n",
    ")"
   ]
  },
  {
   "cell_type": "markdown",
   "metadata": {},
   "source": [
    "Transform Releases data"
   ]
  },
  {
   "cell_type": "code",
   "execution_count": 77,
   "metadata": {},
   "outputs": [],
   "source": [
    "releases_raw['date'] = pd.to_datetime(releases_raw['date_time'])\n",
    "releases = releases_raw.drop(columns=['year', 'month', 'day', 'time', 'date_time'])\n",
    "# releases.sort_values(by=\"date\")\n",
    "\n",
    "ml_repo_import_diffs_timeline['date'] = pd.to_datetime(ml_repo_import_diffs_timeline['date'])"
   ]
  },
  {
   "cell_type": "code",
   "execution_count": 36,
   "metadata": {},
   "outputs": [
    {
     "data": {
      "text/html": [
       "<div>\n",
       "<style scoped>\n",
       "    .dataframe tbody tr th:only-of-type {\n",
       "        vertical-align: middle;\n",
       "    }\n",
       "\n",
       "    .dataframe tbody tr th {\n",
       "        vertical-align: top;\n",
       "    }\n",
       "\n",
       "    .dataframe thead th {\n",
       "        text-align: right;\n",
       "    }\n",
       "</style>\n",
       "<table border=\"1\" class=\"dataframe\">\n",
       "  <thead>\n",
       "    <tr style=\"text-align: right;\">\n",
       "      <th></th>\n",
       "      <th>repo</th>\n",
       "      <th>version</th>\n",
       "      <th>import_name</th>\n",
       "      <th>import_asname</th>\n",
       "      <th>import_module</th>\n",
       "    </tr>\n",
       "  </thead>\n",
       "  <tbody>\n",
       "    <tr>\n",
       "      <th>0</th>\n",
       "      <td>google/tangent</td>\n",
       "      <td>v0.1.4</td>\n",
       "      <td>tensorflow</td>\n",
       "      <td>tf</td>\n",
       "      <td>NaN</td>\n",
       "    </tr>\n",
       "    <tr>\n",
       "      <th>1</th>\n",
       "      <td>google/tangent</td>\n",
       "      <td>v0.1.6</td>\n",
       "      <td>tensorflow</td>\n",
       "      <td>tf</td>\n",
       "      <td>NaN</td>\n",
       "    </tr>\n",
       "    <tr>\n",
       "      <th>2</th>\n",
       "      <td>google/tangent</td>\n",
       "      <td>v0.1.7</td>\n",
       "      <td>tensorflow</td>\n",
       "      <td>tf</td>\n",
       "      <td>NaN</td>\n",
       "    </tr>\n",
       "    <tr>\n",
       "      <th>3</th>\n",
       "      <td>google/tangent</td>\n",
       "      <td>v0.1.8</td>\n",
       "      <td>tensorflow</td>\n",
       "      <td>tf</td>\n",
       "      <td>NaN</td>\n",
       "    </tr>\n",
       "    <tr>\n",
       "      <th>4</th>\n",
       "      <td>google/tangent</td>\n",
       "      <td>v0.1.9</td>\n",
       "      <td>tensorflow</td>\n",
       "      <td>tf</td>\n",
       "      <td>NaN</td>\n",
       "    </tr>\n",
       "  </tbody>\n",
       "</table>\n",
       "</div>"
      ],
      "text/plain": [
       "             repo version import_name import_asname import_module\n",
       "0  google/tangent  v0.1.4  tensorflow            tf           NaN\n",
       "1  google/tangent  v0.1.6  tensorflow            tf           NaN\n",
       "2  google/tangent  v0.1.7  tensorflow            tf           NaN\n",
       "3  google/tangent  v0.1.8  tensorflow            tf           NaN\n",
       "4  google/tangent  v0.1.9  tensorflow            tf           NaN"
      ]
     },
     "execution_count": 36,
     "metadata": {},
     "output_type": "execute_result"
    }
   ],
   "source": [
    "ml_repo_imports.head()"
   ]
  },
  {
   "cell_type": "code",
   "execution_count": 79,
   "metadata": {},
   "outputs": [
    {
     "data": {
      "text/html": [
       "<div>\n",
       "<style scoped>\n",
       "    .dataframe tbody tr th:only-of-type {\n",
       "        vertical-align: middle;\n",
       "    }\n",
       "\n",
       "    .dataframe tbody tr th {\n",
       "        vertical-align: top;\n",
       "    }\n",
       "\n",
       "    .dataframe thead th {\n",
       "        text-align: right;\n",
       "    }\n",
       "</style>\n",
       "<table border=\"1\" class=\"dataframe\">\n",
       "  <thead>\n",
       "    <tr style=\"text-align: right;\">\n",
       "      <th></th>\n",
       "      <th>date</th>\n",
       "      <th>import</th>\n",
       "      <th>count</th>\n",
       "    </tr>\n",
       "  </thead>\n",
       "  <tbody>\n",
       "    <tr>\n",
       "      <th>0</th>\n",
       "      <td>2015-06-13</td>\n",
       "      <td>theano</td>\n",
       "      <td>1</td>\n",
       "    </tr>\n",
       "    <tr>\n",
       "      <th>1</th>\n",
       "      <td>2015-06-13</td>\n",
       "      <td>keras</td>\n",
       "      <td>1</td>\n",
       "    </tr>\n",
       "    <tr>\n",
       "      <th>3</th>\n",
       "      <td>2015-07-18</td>\n",
       "      <td>theano</td>\n",
       "      <td>1</td>\n",
       "    </tr>\n",
       "    <tr>\n",
       "      <th>4</th>\n",
       "      <td>2015-07-18</td>\n",
       "      <td>keras</td>\n",
       "      <td>1</td>\n",
       "    </tr>\n",
       "    <tr>\n",
       "      <th>8</th>\n",
       "      <td>2015-08-27</td>\n",
       "      <td>theano</td>\n",
       "      <td>1</td>\n",
       "    </tr>\n",
       "    <tr>\n",
       "      <th>...</th>\n",
       "      <td>...</td>\n",
       "      <td>...</td>\n",
       "      <td>...</td>\n",
       "    </tr>\n",
       "    <tr>\n",
       "      <th>422</th>\n",
       "      <td>2018-07-06</td>\n",
       "      <td>theano</td>\n",
       "      <td>1</td>\n",
       "    </tr>\n",
       "    <tr>\n",
       "      <th>423</th>\n",
       "      <td>2018-07-06</td>\n",
       "      <td>keras</td>\n",
       "      <td>3</td>\n",
       "    </tr>\n",
       "    <tr>\n",
       "      <th>429</th>\n",
       "      <td>2018-07-06</td>\n",
       "      <td>tensorflow</td>\n",
       "      <td>5</td>\n",
       "    </tr>\n",
       "    <tr>\n",
       "      <th>443</th>\n",
       "      <td>2018-07-06</td>\n",
       "      <td>torch</td>\n",
       "      <td>1</td>\n",
       "    </tr>\n",
       "    <tr>\n",
       "      <th>447</th>\n",
       "      <td>2018-08-28</td>\n",
       "      <td>theano</td>\n",
       "      <td>1</td>\n",
       "    </tr>\n",
       "  </tbody>\n",
       "</table>\n",
       "<p>80 rows × 3 columns</p>\n",
       "</div>"
      ],
      "text/plain": [
       "          date      import  count\n",
       "0   2015-06-13      theano      1\n",
       "1   2015-06-13       keras      1\n",
       "3   2015-07-18      theano      1\n",
       "4   2015-07-18       keras      1\n",
       "8   2015-08-27      theano      1\n",
       "..         ...         ...    ...\n",
       "422 2018-07-06      theano      1\n",
       "423 2018-07-06       keras      3\n",
       "429 2018-07-06  tensorflow      5\n",
       "443 2018-07-06       torch      1\n",
       "447 2018-08-28      theano      1\n",
       "\n",
       "[80 rows x 3 columns]"
      ]
     },
     "execution_count": 79,
     "metadata": {},
     "output_type": "execute_result"
    }
   ],
   "source": [
    "ml_repo_import_diffs_timeline.head(80)\n"
   ]
  },
  {
   "cell_type": "code",
   "execution_count": 80,
   "metadata": {},
   "outputs": [],
   "source": [
    "theano_counts = ml_repo_import_diffs_timeline[ml_repo_import_diffs_timeline['import'] == 'theano']\n",
    "tensorflow_counts = ml_repo_import_diffs_timeline[ml_repo_import_diffs_timeline['import'] == 'tensorflow']\n",
    "torch_counts = ml_repo_import_diffs_timeline[ml_repo_import_diffs_timeline['import'] == 'torch']\n",
    "keras_counts = ml_repo_import_diffs_timeline[ml_repo_import_diffs_timeline['import'] == 'keras']"
   ]
  },
  {
   "cell_type": "code",
   "execution_count": 93,
   "metadata": {},
   "outputs": [
    {
     "data": {
      "image/png": "[encoded data removed]",
      "text/plain": [
       "<Figure size 960x640 with 1 Axes>"
      ]
     },
     "metadata": {
      "needs_background": "light"
     },
     "output_type": "display_data"
    }
   ],
   "source": [
    "plt.rcParams['figure.figsize'] = [12, 8]\n",
    "plt.rcParams['figure.dpi'] = 80 # 200 e.g. is really fine, but slower\n",
    "\n",
    "years = mdates.YearLocator()   # every year\n",
    "months = mdates.MonthLocator()  # every month\n",
    "yearsFmt = mdates.DateFormatter('%Y')\n",
    "fig, ax = plt.subplots()\n",
    "\n",
    "ax.plot(tensorflow_counts['date'], tensorflow_counts['count'], label='tensorflow')\n",
    "ax.plot(torch_counts['date'], torch_counts['count'], label='torch')\n",
    "ax.plot(theano_counts['date'], theano_counts['count'], label='theano')\n",
    "ax.plot(keras_counts['date'], keras_counts['count'], label='keras')\n",
    "\n",
    "ax.set_xlabel('Date')\n",
    "ax.set_ylabel('Number of Projects Importing')\n",
    "ax.set_title('Popularity of Deep Learning Libraries')\n",
    "ax.legend()\n",
    "\n",
    "ax.xaxis.set_major_locator(years)\n",
    "ax.xaxis.set_major_formatter(yearsFmt)\n",
    "ax.xaxis.set_minor_locator(months)\n",
    "                           \n",
    "# datemin = datetime.date(ml_repo_import_diffs_timeline['date'].min().year, 1, 1)\n",
    "# datemax = datetime.date(ml_repo_import_diffs_timeline['date'].max().year + 1, 1, 1)\n",
    "# ax.set_xlim(datemin, datemax)\n",
    "\n",
    "fig.autofmt_xdate()\n",
    "\n",
    "plt.show()\n"
   ]
  }
 ],
 "metadata": {
  "kernelspec": {
   "display_name": "Python 3",
   "language": "python",
   "name": "python3"
  },
  "language_info": {
   "codemirror_mode": {
    "name": "ipython",
    "version": 3
   },
   "file_extension": ".py",
   "mimetype": "text/x-python",
   "name": "python",
   "nbconvert_exporter": "python",
   "pygments_lexer": "ipython3",
   "version": "3.8.3"
  }
 },
 "nbformat": 4,
 "nbformat_minor": 4
}
